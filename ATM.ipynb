{
  "nbformat": 4,
  "nbformat_minor": 0,
  "metadata": {
    "colab": {
      "provenance": [],
      "authorship_tag": "ABX9TyNXDgwM3Etpd4T2KNnLgBCG",
      "include_colab_link": true
    },
    "kernelspec": {
      "name": "python3",
      "display_name": "Python 3"
    },
    "language_info": {
      "name": "python"
    }
  },
  "cells": [
    {
      "cell_type": "markdown",
      "metadata": {
        "id": "view-in-github",
        "colab_type": "text"
      },
      "source": [
        "<a href=\"https://colab.research.google.com/github/SrinivasMandla/-Create-An-ATM-Machine-Simulation/blob/main/ATM.ipynb\" target=\"_parent\"><img src=\"https://colab.research.google.com/assets/colab-badge.svg\" alt=\"Open In Colab\"/></a>"
      ]
    },
    {
      "cell_type": "code",
      "execution_count": 5,
      "metadata": {
        "colab": {
          "base_uri": "https://localhost:8080/"
        },
        "id": "oOYqGL90kVlM",
        "outputId": "3c5a512b-d351-46ab-dc86-7cefe8f18c2e"
      },
      "outputs": [
        {
          "name": "stdout",
          "output_type": "stream",
          "text": [
            "Please insert Your CARD\n",
            "Please insert Your CARD\n",
            "enter your atm pin 1234\n",
            " \n",
            "1== balance \n",
            "2== withdraw balance \n",
            "3 == deposit balance \n",
            "4 == exit \n",
            "\n",
            "Please enter your choise 1\n",
            "Yuor current balance is 5000\n",
            "======================================\n",
            " \n",
            "1== balance \n",
            "2== withdraw balance \n",
            "3 == deposit balance \n",
            "4 == exit \n",
            "\n",
            "Please enter your choise 2\n",
            "please enter withdraw_amount 2000\n",
            "2000 is debited from your account\n",
            "======================================\n",
            "======================================\n",
            "your current balance is 3000\n",
            " \n",
            "1== balance \n",
            "2== withdraw balance \n",
            "3 == deposit balance \n",
            "4 == exit \n",
            "\n",
            "Please enter your choise 3\n",
            "please enter deposit_amount2000\n",
            "=============\n",
            "============= \n",
            "2000 is credited to your account\n",
            "your updated balance is 5000\n",
            " \n",
            "1== balance \n",
            "2== withdraw balance \n",
            "3 == deposit balance \n",
            "4 == exit \n",
            "\n",
            "Please enter your choise 4\n"
          ]
        }
      ],
      "source": [
        "import time\n",
        "print(\"Please insert Your CARD\")\n",
        "\n",
        "time.sleep(5)\n",
        "import time\n",
        "print(\"Please insert Your CARD\")\n",
        "time.sleep(5)\n",
        "password=1234\n",
        "pin=int(input(\"enter your atm pin \"))\n",
        "balance = 5000\n",
        "\n",
        "if pin==password:\n",
        "  while True:\n",
        "    print(\"\"\"\n",
        "1== balance\n",
        "2== withdraw balance\n",
        "3 == deposit balance\n",
        "4 == exit\n",
        "\"\"\")\n",
        "    try:\n",
        "      option=int(input(\"Please enter your choise \"))\n",
        "    except:\n",
        "      print(\"Please enter valid option\")\n",
        "    if option==1:\n",
        "      print (f\"Yuor current balance is {balance}\")\n",
        "      print(\"======================================\")\n",
        "    if option==2:\n",
        "      withdraw_amount=int(input(\"please enter withdraw_amount \"))\n",
        "      balance= balance-withdraw_amount\n",
        "      print(f\"{withdraw_amount} is debited from your account\")\n",
        "      print(\"======================================\")\n",
        "      print(\"======================================\")\n",
        "      print (f\"your current balance is {balance}\")\n",
        "    if option == 3:\n",
        "      deposit_amount = int(input(\"please enter deposit_amount\"))\n",
        "      balance = balance + deposit_amount\n",
        "      print(\"=============\")\n",
        "      print(\"============= \")\n",
        "      print (f\"{deposit_amount} is credited to your account\")\n",
        "      print (f\"your updated balance is {balance}\")\n",
        "    if option == 4:\n",
        "      break\n",
        "else:\n",
        "  print(\"wrong pin Please try again\")\n",
        ""
      ]
    }
  ]
}